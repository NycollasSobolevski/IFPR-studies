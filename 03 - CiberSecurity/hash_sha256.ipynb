{
 "cells": [
  {
   "cell_type": "code",
   "execution_count": 1,
   "metadata": {},
   "outputs": [
    {
     "name": "stdout",
     "output_type": "stream",
     "text": [
      "b'nycollas'\n",
      "<class 'bytes'>\n"
     ]
    }
   ],
   "source": [
    "nome = b\"nycollas\" #'b' armazena a string em formato de bytes\n",
    "print(nome)\n",
    "print(type(nome))"
   ]
  },
  {
   "cell_type": "code",
   "execution_count": 4,
   "metadata": {},
   "outputs": [
    {
     "name": "stdout",
     "output_type": "stream",
     "text": [
      "8d969eef6ecad3c29a3a629280e686cf0c3f5d5a86aff3ca12020c923adc6c92\n",
      "64\n"
     ]
    }
   ],
   "source": [
    "from hashlib import sha256\n",
    "#from hashlib import sha512\n",
    "\n",
    "senha = '123456'\n",
    "hash = sha256(senha.encode())\n",
    "print(hash.hexdigest())\n",
    "print(len(hash.hexdigest()))"
   ]
  },
  {
   "cell_type": "code",
   "execution_count": 8,
   "metadata": {},
   "outputs": [
    {
     "name": "stdout",
     "output_type": "stream",
     "text": [
      "b'\\x96\\xca\\xe3\\\\\\xe8\\xa9\\xb0$Ax\\xbf(\\xe4\\x96l,\\xe1\\xb88W#\\xa9jk\\x83\\x88X\\xcd\\xd6\\xca\\n\\x1e'\n"
     ]
    }
   ],
   "source": [
    "from hashlib import sha256\n",
    "senha = input(\"Senha: \")\n",
    "\n",
    "armazenar = sha256(senha.encode()).digest()\n",
    "print(armazenar)"
   ]
  },
  {
   "cell_type": "code",
   "execution_count": 12,
   "metadata": {},
   "outputs": [
    {
     "name": "stdout",
     "output_type": "stream",
     "text": [
      "login inválido\n"
     ]
    }
   ],
   "source": [
    "senha_login = input(\"senha login: \")\n",
    "hashSenhaLogin =  sha256(senha_login.encode()).digest()\n",
    "\n",
    "if(hashSenhaLogin == armazenar):\n",
    "    print(\"Login bem sucedido\")\n",
    "else:\n",
    "    print('login inválido')"
   ]
  }
 ],
 "metadata": {
  "kernelspec": {
   "display_name": "Python 3",
   "language": "python",
   "name": "python3"
  },
  "language_info": {
   "codemirror_mode": {
    "name": "ipython",
    "version": 3
   },
   "file_extension": ".py",
   "mimetype": "text/x-python",
   "name": "python",
   "nbconvert_exporter": "python",
   "pygments_lexer": "ipython3",
   "version": "3.12.2"
  }
 },
 "nbformat": 4,
 "nbformat_minor": 2
}
